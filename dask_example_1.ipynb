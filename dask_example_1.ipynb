{
 "cells": [
  {
   "cell_type": "markdown",
   "metadata": {},
   "source": [
    "Learning Objective:\n",
    "\n",
    "* Demonstrate parallel running of functions\n",
    "\n",
    "Concepts:\n",
    "\n",
    "* Dask Client: The method that provids what's called an 'entry point' to dask distributed. Essentially sets up a connection to your cluster/processor and allows the submission of jobs. \n",
    "* Dask Distributed: This is the task scheduler for Dask. It coordinates the 'tasks'/functions/jobs across cores or nodes.\n",
    "* Joblib: Part of scikit-learn, has functions for saving models (like pickle), also has task scheduling. Dask integrates heavily with scikit-learn, see https://ml.dask.org/joblib.html.\n",
    "* Dask Delayed: A kind of decorator for functions that allows for delaying them (i.e., making them lazy), such that they run in a parallel manner"
   ]
  },
  {
   "cell_type": "code",
   "execution_count": 1,
   "metadata": {},
   "outputs": [],
   "source": [
    "#import packages\n",
    "from dask.distributed import Client\n",
    "from dask import delayed\n",
    "from time import sleep\n",
    "import pandas as pd\n",
    "from dask import dataframe as dd\n",
    "import numpy as np"
   ]
  },
  {
   "cell_type": "code",
   "execution_count": 2,
   "metadata": {},
   "outputs": [],
   "source": [
    "#import the dataset\n",
    "dataframe = pd.read_csv('/Users/lindseyclark/Documents/formula_1_project/formula-1-race-data-19502017/lapTimes.csv')\n",
    "#Convert the dataset to a dask dataframe\n",
    "dataframe_dask = dd.from_pandas(dataframe, npartitions=8) "
   ]
  },
  {
   "cell_type": "code",
   "execution_count": 10,
   "metadata": {},
   "outputs": [
    {
     "data": {
      "text/html": [
       "<div>\n",
       "<style scoped>\n",
       "    .dataframe tbody tr th:only-of-type {\n",
       "        vertical-align: middle;\n",
       "    }\n",
       "\n",
       "    .dataframe tbody tr th {\n",
       "        vertical-align: top;\n",
       "    }\n",
       "\n",
       "    .dataframe thead th {\n",
       "        text-align: right;\n",
       "    }\n",
       "</style>\n",
       "<table border=\"1\" class=\"dataframe\">\n",
       "  <thead>\n",
       "    <tr style=\"text-align: right;\">\n",
       "      <th></th>\n",
       "      <th>raceId</th>\n",
       "      <th>driverId</th>\n",
       "      <th>lap</th>\n",
       "      <th>position2</th>\n",
       "      <th>milliseconds</th>\n",
       "    </tr>\n",
       "  </thead>\n",
       "  <tbody>\n",
       "    <tr>\n",
       "      <th>count</th>\n",
       "      <td>426633.000000</td>\n",
       "      <td>426633.000000</td>\n",
       "      <td>426633.000000</td>\n",
       "      <td>426633.000000</td>\n",
       "      <td>4.266330e+05</td>\n",
       "    </tr>\n",
       "    <tr>\n",
       "      <th>mean</th>\n",
       "      <td>423.120853</td>\n",
       "      <td>186.503817</td>\n",
       "      <td>29.827172</td>\n",
       "      <td>9.646896</td>\n",
       "      <td>9.580222e+04</td>\n",
       "    </tr>\n",
       "    <tr>\n",
       "      <th>std</th>\n",
       "      <td>381.542422</td>\n",
       "      <td>316.123374</td>\n",
       "      <td>18.402245</td>\n",
       "      <td>5.580664</td>\n",
       "      <td>7.475541e+04</td>\n",
       "    </tr>\n",
       "    <tr>\n",
       "      <th>min</th>\n",
       "      <td>1.000000</td>\n",
       "      <td>1.000000</td>\n",
       "      <td>1.000000</td>\n",
       "      <td>1.000000</td>\n",
       "      <td>6.741100e+04</td>\n",
       "    </tr>\n",
       "    <tr>\n",
       "      <th>25%</th>\n",
       "      <td>100.000000</td>\n",
       "      <td>18.000000</td>\n",
       "      <td>14.000000</td>\n",
       "      <td>6.000000</td>\n",
       "      <td>8.535750e+04</td>\n",
       "    </tr>\n",
       "    <tr>\n",
       "      <th>50%</th>\n",
       "      <td>232.000000</td>\n",
       "      <td>41.000000</td>\n",
       "      <td>29.000000</td>\n",
       "      <td>11.000000</td>\n",
       "      <td>9.584100e+04</td>\n",
       "    </tr>\n",
       "    <tr>\n",
       "      <th>75%</th>\n",
       "      <td>975.000000</td>\n",
       "      <td>828.000000</td>\n",
       "      <td>45.000000</td>\n",
       "      <td>16.000000</td>\n",
       "      <td>1.076268e+05</td>\n",
       "    </tr>\n",
       "    <tr>\n",
       "      <th>max</th>\n",
       "      <td>988.000000</td>\n",
       "      <td>843.000000</td>\n",
       "      <td>78.000000</td>\n",
       "      <td>24.000000</td>\n",
       "      <td>7.507547e+06</td>\n",
       "    </tr>\n",
       "  </tbody>\n",
       "</table>\n",
       "</div>"
      ],
      "text/plain": [
       "              raceId       driverId            lap      position2  \\\n",
       "count  426633.000000  426633.000000  426633.000000  426633.000000   \n",
       "mean      423.120853     186.503817      29.827172       9.646896   \n",
       "std       381.542422     316.123374      18.402245       5.580664   \n",
       "min         1.000000       1.000000       1.000000       1.000000   \n",
       "25%       100.000000      18.000000      14.000000       6.000000   \n",
       "50%       232.000000      41.000000      29.000000      11.000000   \n",
       "75%       975.000000     828.000000      45.000000      16.000000   \n",
       "max       988.000000     843.000000      78.000000      24.000000   \n",
       "\n",
       "       milliseconds  \n",
       "count  4.266330e+05  \n",
       "mean   9.580222e+04  \n",
       "std    7.475541e+04  \n",
       "min    6.741100e+04  \n",
       "25%    8.535750e+04  \n",
       "50%    9.584100e+04  \n",
       "75%    1.076268e+05  \n",
       "max    7.507547e+06  "
      ]
     },
     "execution_count": 10,
     "metadata": {},
     "output_type": "execute_result"
    }
   ],
   "source": [
    "dataframe_dask.describe().compute()"
   ]
  },
  {
   "cell_type": "code",
   "execution_count": 3,
   "metadata": {},
   "outputs": [],
   "source": [
    "#Instantiate the client\n",
    "client = Client(n_workers=4)"
   ]
  },
  {
   "cell_type": "code",
   "execution_count": 4,
   "metadata": {},
   "outputs": [
    {
     "data": {
      "text/html": [
       "<table style=\"border: 2px solid white;\">\n",
       "<tr>\n",
       "<td style=\"vertical-align: top; border: 0px solid white\">\n",
       "<h3 style=\"text-align: left;\">Client</h3>\n",
       "<ul style=\"text-align: left; list-style: none; margin: 0; padding: 0;\">\n",
       "  <li><b>Scheduler: </b>tcp://127.0.0.1:52788</li>\n",
       "  <li><b>Dashboard: </b><a href='http://127.0.0.1:8787/status' target='_blank'>http://127.0.0.1:8787/status</a></li>\n",
       "</ul>\n",
       "</td>\n",
       "<td style=\"vertical-align: top; border: 0px solid white\">\n",
       "<h3 style=\"text-align: left;\">Cluster</h3>\n",
       "<ul style=\"text-align: left; list-style:none; margin: 0; padding: 0;\">\n",
       "  <li><b>Workers: </b>4</li>\n",
       "  <li><b>Cores: </b>8</li>\n",
       "  <li><b>Memory: </b>8.59 GB</li>\n",
       "</ul>\n",
       "</td>\n",
       "</tr>\n",
       "</table>"
      ],
      "text/plain": [
       "<Client: 'tcp://127.0.0.1:52788' processes=4 threads=8, memory=8.59 GB>"
      ]
     },
     "execution_count": 4,
     "metadata": {},
     "output_type": "execute_result"
    }
   ],
   "source": [
    "client"
   ]
  },
  {
   "cell_type": "code",
   "execution_count": 5,
   "metadata": {},
   "outputs": [],
   "source": [
    "#define some transformation functions\n",
    "def create_split_cols1(dataframe):\n",
    "    sleep(1)\n",
    "    split_cols1 = dataframe.time.apply(lambda x: pd.Series(str(x).split(\".\")))\n",
    "    split_cols1['raceId'] = dataframe['raceId']\n",
    "    return split_cols1\n",
    "def create_split_cols2(dataframe):\n",
    "    sleep(1)\n",
    "    split_cols2 = dataframe.time.apply(lambda x: pd.Series(str(x).split(\":\")))\n",
    "    split_cols2['raceId'] = dataframe['raceId']\n",
    "    return split_cols2\n",
    "def print_results(x,y):\n",
    "    print(x)\n",
    "    print(y)"
   ]
  },
  {
   "cell_type": "code",
   "execution_count": null,
   "metadata": {},
   "outputs": [],
   "source": [
    "#Let's run this in parallel!"
   ]
  },
  {
   "cell_type": "code",
   "execution_count": 6,
   "metadata": {},
   "outputs": [
    {
     "name": "stdout",
     "output_type": "stream",
     "text": [
      "CPU times: user 3min 6s, sys: 6.62 s, total: 3min 12s\n",
      "Wall time: 3min 13s\n"
     ]
    }
   ],
   "source": [
    "%%time \n",
    "\n",
    "x = create_split_cols1(dataframe)\n",
    "y = create_split_cols2(dataframe)"
   ]
  },
  {
   "cell_type": "code",
   "execution_count": null,
   "metadata": {},
   "outputs": [],
   "source": [
    "#That ran for close to 3 minutes. Now, let's get parallel"
   ]
  },
  {
   "cell_type": "code",
   "execution_count": 7,
   "metadata": {},
   "outputs": [
    {
     "name": "stdout",
     "output_type": "stream",
     "text": [
      "CPU times: user 94.5 ms, sys: 53 ms, total: 147 ms\n",
      "Wall time: 150 ms\n"
     ]
    }
   ],
   "source": [
    "%%time\n",
    "\n",
    "x = delayed(create_split_cols1)(dataframe)\n",
    "y = delayed(create_split_cols2)(dataframe)\n",
    "z = delayed(print_results)(x, y)"
   ]
  },
  {
   "cell_type": "code",
   "execution_count": 11,
   "metadata": {},
   "outputs": [
    {
     "name": "stderr",
     "output_type": "stream",
     "text": [
      "/Users/lindseyclark/Documents/neural_net_projects/venv_reg/lib/python3.7/site-packages/distributed/worker.py:3390: UserWarning: Large object of size 19.06 MB detected in task graph: \n",
      "  (        raceId  driverId  lap  position2     time ...  x 6 columns],)\n",
      "Consider scattering large objects ahead of time\n",
      "with client.scatter to reduce scheduler burden and \n",
      "keep data on workers\n",
      "\n",
      "    future = client.submit(func, big_data)    # bad\n",
      "\n",
      "    big_future = client.scatter(big_data)     # good\n",
      "    future = client.submit(func, big_future)  # good\n",
      "  % (format_bytes(len(b)), s)\n"
     ]
    },
    {
     "name": "stdout",
     "output_type": "stream",
     "text": [
      "CPU times: user 3.56 s, sys: 554 ms, total: 4.11 s\n",
      "Wall time: 1min 44s\n"
     ]
    }
   ],
   "source": [
    "%%time\n",
    "z.compute()"
   ]
  },
  {
   "cell_type": "code",
   "execution_count": null,
   "metadata": {},
   "outputs": [],
   "source": [
    "#That ran for half the time, 1 min 30 seconds, because we are running 2 tasks at once, instead of in series. "
   ]
  },
  {
   "cell_type": "code",
   "execution_count": 12,
   "metadata": {},
   "outputs": [
    {
     "data": {
      "image/png": "[encoded data removed]",
      "text/plain": [
       "<IPython.core.display.Image object>"
      ]
     },
     "execution_count": 12,
     "metadata": {},
     "output_type": "execute_result"
    }
   ],
   "source": [
    "#needed to brew install graphviz\n",
    "z.visualize()"
   ]
  },
  {
   "cell_type": "code",
   "execution_count": 13,
   "metadata": {},
   "outputs": [],
   "source": [
    "client.close()"
   ]
  },
  {
   "cell_type": "code",
   "execution_count": null,
   "metadata": {},
   "outputs": [],
   "source": []
  }
 ],
 "metadata": {
  "kernelspec": {
   "display_name": "Python 3",
   "language": "python",
   "name": "python3"
  },
  "language_info": {
   "codemirror_mode": {
    "name": "ipython",
    "version": 3
   },
   "file_extension": ".py",
   "mimetype": "text/x-python",
   "name": "python",
   "nbconvert_exporter": "python",
   "pygments_lexer": "ipython3",
   "version": "3.7.6"
  }
 },
 "nbformat": 4,
 "nbformat_minor": 4
}
