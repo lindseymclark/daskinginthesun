{
 "cells": [
  {
   "cell_type": "markdown",
   "metadata": {},
   "source": [
    "Learning Objective:\n",
    "\n",
    "* Demonstrate parallel running of functions\n",
    "\n",
    "Concepts:\n",
    "\n",
    "* Dask Client: The method that provids what's called an 'entry point' to dask distributed. Essentially sets up a connection to your cluster/processor and allows the submission of jobs. \n",
    "* Dask Distributed: This is the task scheduler for Dask. It coordinates the 'tasks'/functions/jobs across cores or nodes.\n",
    "* Joblib: Part of scikit-learn, has functions for saving models (like pickle), also has task scheduling. Dask integrates heavily with scikit-learn, see https://ml.dask.org/joblib.html.\n",
    "* Dask Delayed: A kind of decorator for functions that allows for delaying them (i.e., making them lazy), such that they run in a parallel manner"
   ]
  },
  {
   "cell_type": "code",
   "execution_count": 1,
   "metadata": {},
   "outputs": [],
   "source": [
    "#import packages\n",
    "from dask.distributed import Client\n",
    "from dask import delayed\n",
    "from time import sleep\n",
    "import pandas as pd\n",
    "from dask import dataframe as dd\n",
    "import numpy as np"
   ]
  },
  {
   "cell_type": "code",
   "execution_count": 2,
   "metadata": {},
   "outputs": [],
   "source": [
    "#import the dataset\n",
    "dataframe = pd.read_csv('/Users/lindseyclark/Documents/formula_1_project/formula-1-race-data-19502017/lapTimes.csv')\n",
    "#Convert the dataset to a dask dataframe\n",
    "dataframe_dask = dd.from_pandas(dataframe, npartitions=8) "
   ]
  },
  {
   "cell_type": "code",
   "execution_count": 3,
   "metadata": {},
   "outputs": [],
   "source": [
    "#Instantiate the client\n",
    "client = Client(n_workers=4)"
   ]
  },
  {
   "cell_type": "code",
   "execution_count": null,
   "metadata": {},
   "outputs": [],
   "source": [
    "#define some transformation functions\n",
    "def create_split_cols1(dataframe):\n",
    "    sleep(1)\n",
    "    split_cols1 = dataframe.time.apply(lambda x: pd.Series(str(x).split(\".\")))\n",
    "    split_cols1['raceId'] = dataframe['raceId']\n",
    "    return split_cols1\n",
    "def create_split_cols2(dataframe):\n",
    "    sleep(1)\n",
    "    split_cols2 = dataframe.time.apply(lambda x: pd.Series(str(x).split(\":\")))\n",
    "    split_cols2['raceId'] = dataframe['raceId']\n",
    "    return split_cols2\n",
    "def print_results(x,y):\n",
    "    print(x)\n",
    "    print(y)"
   ]
  },
  {
   "cell_type": "code",
   "execution_count": null,
   "metadata": {},
   "outputs": [],
   "source": [
    "#Let's run this in parallel!"
   ]
  },
  {
   "cell_type": "code",
   "execution_count": null,
   "metadata": {},
   "outputs": [],
   "source": [
    "%%time \n",
    "\n",
    "x = create_split_cols1(dataframe)\n",
    "y = create_split_cols2(dataframe)"
   ]
  },
  {
   "cell_type": "code",
   "execution_count": null,
   "metadata": {},
   "outputs": [],
   "source": [
    "#That ran for close to 3 minutes. Now, let's get parallel"
   ]
  },
  {
   "cell_type": "code",
   "execution_count": null,
   "metadata": {},
   "outputs": [],
   "source": [
    "%%time\n",
    "\n",
    "x = delayed(create_split_cols1)(dataframe)\n",
    "y = delayed(create_split_cols2)(dataframe)\n",
    "z = delayed(print_results)(x, y)"
   ]
  },
  {
   "cell_type": "code",
   "execution_count": null,
   "metadata": {},
   "outputs": [],
   "source": [
    "%%time\n",
    "z.compute()"
   ]
  },
  {
   "cell_type": "code",
   "execution_count": null,
   "metadata": {},
   "outputs": [],
   "source": [
    "#That ran for half the time, 1 min 30 seconds, because we are running 2 tasks at once, instead of in series. "
   ]
  },
  {
   "cell_type": "code",
   "execution_count": null,
   "metadata": {},
   "outputs": [],
   "source": [
    "#needed to brew install graphviz\n",
    "z.visualize()"
   ]
  },
  {
   "cell_type": "code",
   "execution_count": null,
   "metadata": {},
   "outputs": [],
   "source": [
    "client.close()"
   ]
  },
  {
   "cell_type": "code",
   "execution_count": null,
   "metadata": {},
   "outputs": [],
   "source": []
  }
 ],
 "metadata": {
  "kernelspec": {
   "display_name": "Python 3",
   "language": "python",
   "name": "python3"
  },
  "language_info": {
   "codemirror_mode": {
    "name": "ipython",
    "version": 3
   },
   "file_extension": ".py",
   "mimetype": "text/x-python",
   "name": "python",
   "nbconvert_exporter": "python",
   "pygments_lexer": "ipython3",
   "version": "3.7.6"
  }
 },
 "nbformat": 4,
 "nbformat_minor": 4
}
