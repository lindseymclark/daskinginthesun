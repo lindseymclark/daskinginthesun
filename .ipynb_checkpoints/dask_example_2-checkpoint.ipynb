{
 "cells": [
  {
   "cell_type": "code",
   "execution_count": null,
   "metadata": {},
   "outputs": [],
   "source": [
    "#reading the csv files\n",
    "import dask.dataframe as dd\n",
    "df = dd.read_csv('blackfriday_train.csv')\n",
    "test=dd.read_csv(\"blackfriday_test.csv\")\n",
    "\n",
    "#having a look at the head of the dataset\n",
    "df.head()\n",
    "\n",
    "#finding the null values in the dataset\n",
    "df.isnull().sum().compute()\n",
    "\n",
    "#defining the data and target\n",
    "categorical_variables = df[['Gender', 'Age', 'Occupation', 'City_Category', 'Stay_In_Current_City_Years', 'Marital_Status']]\n",
    "target = df['Purchase']\n",
    "\n",
    "#creating dummies for the categorical variables\n",
    "data = dd.get_dummies(categorical_variables.categorize()).compute()\n",
    "\n",
    "#converting dataframe to array\n",
    "datanew=data.values\n",
    "\n",
    "#fit the model\n",
    "from dask_ml.linear_model import LinearRegression\n",
    "lr = LinearRegression()\n",
    "lr.fit(datanew, target)\n"
   ]
  },
  {
   "cell_type": "code",
   "execution_count": null,
   "metadata": {},
   "outputs": [],
   "source": [
    "#preparing the test data\n",
    "test_categorical = test[['Gender', 'Age', 'Occupation', 'City_Category', 'Stay_In_Current_City_Years', 'Marital_Status']]\n",
    "test_dummy = dd.get_dummies(test_categorical.categorize()).compute()\n",
    "testnew = test_dummy.values\n",
    "\n",
    "#predict on test and upload\n",
    "pred=lr.predict(testnew)"
   ]
  },
  {
   "cell_type": "code",
   "execution_count": null,
   "metadata": {},
   "outputs": [],
   "source": [
    "from dask.distributed import Client\n",
    "client = Client() # start a local Dask client\n",
    "\n",
    "import dask_ml.joblib\n",
    "from sklearn.externals.joblib import parallel_backend\n",
    "with parallel_backend('dask'):\n",
    "\n",
    "    # Create the parameter grid based on the results of random search \n",
    "     param_grid = {\n",
    "    'bootstrap': [True],\n",
    "    'max_depth': [8, 9],\n",
    "    'max_features': [2, 3],\n",
    "    'min_samples_leaf': [4, 5],\n",
    "    'min_samples_split': [8, 10],\n",
    "    'n_estimators': [100, 200]\n",
    "    }\n",
    "\n",
    "    # Create a based model\n",
    "    from sklearn.ensemble import RandomForestRegressor\n",
    "    rf = RandomForestRegressor()"
   ]
  },
  {
   "cell_type": "code",
   "execution_count": null,
   "metadata": {},
   "outputs": [],
   "source": [
    "# Instantiate the grid search model\n",
    "import dask_searchcv as dcv\n",
    "grid_search = dcv.GridSearchCV(estimator = rf, param_grid = param_grid, cv = 3)\n",
    "grid_search.fit(data, target)\n",
    "grid_search.best_params_\n"
   ]
  },
  {
   "cell_type": "code",
   "execution_count": null,
   "metadata": {},
   "outputs": [],
   "source": [
    "{'bootstrap': True,\n",
    " 'max_depth': 8,\n",
    " 'max_features': 2,\n",
    " 'min_samples_leaf': 5,\n",
    " 'min_samples_split': 8,\n",
    " 'n_estimators': 200}"
   ]
  },
  {
   "cell_type": "code",
   "execution_count": null,
   "metadata": {},
   "outputs": [],
   "source": []
  },
  {
   "cell_type": "code",
   "execution_count": null,
   "metadata": {},
   "outputs": [],
   "source": []
  },
  {
   "cell_type": "code",
   "execution_count": null,
   "metadata": {},
   "outputs": [],
   "source": []
  },
  {
   "cell_type": "code",
   "execution_count": null,
   "metadata": {},
   "outputs": [],
   "source": []
  }
 ],
 "metadata": {
  "kernelspec": {
   "display_name": "Python 3",
   "language": "python",
   "name": "python3"
  },
  "language_info": {
   "codemirror_mode": {
    "name": "ipython",
    "version": 3
   },
   "file_extension": ".py",
   "mimetype": "text/x-python",
   "name": "python",
   "nbconvert_exporter": "python",
   "pygments_lexer": "ipython3",
   "version": "3.7.6"
  }
 },
 "nbformat": 4,
 "nbformat_minor": 4
}
